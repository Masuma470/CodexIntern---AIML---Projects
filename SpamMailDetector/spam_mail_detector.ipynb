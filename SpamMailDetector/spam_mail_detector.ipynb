{
 "cells": [
  {
   "cell_type": "markdown",
   "id": "8459981a-ffb4-42e3-af04-882356c4f17a",
   "metadata": {},
   "source": [
    "# 📧 Spam Classification using Machine Learning\n",
    "\n",
    "This notebook demonstrates how to build a **Spam Classifier** using the **UCI Spambase Dataset**.  \n",
    "We will follow these steps:\n",
    "\n",
    "1. Download & Prepare Folders  \n",
    "2. Import Required Libraries  \n",
    "3. Load and Explore the Dataset  \n",
    "4. Perform Exploratory Data Analysis (EDA)  \n",
    "5. Preprocess the Data  \n",
    "6. Train Machine Learning Models  \n",
    "7. Evaluate and Compare Models  \n",
    "8. Save Trained Model for Future Use  \n"
   ]
  },
  {
   "cell_type": "markdown",
   "id": "aa79978e-b999-439e-8a3e-1614aaaf23fb",
   "metadata": {},
   "source": [
    "# 🔹 Step 1: Setup Project Folders\n",
    "\n",
    "We will create folders to keep our project organized:\n",
    "\n",
    "- `data/` → store datasets  \n",
    "- `plots/` → save plots  \n",
    "- `models/` → save trained models  \n"
   ]
  },
  {
   "cell_type": "code",
   "execution_count": 1,
   "id": "a61d74cc-d14a-4cbe-95d0-6b9d783ef359",
   "metadata": {},
   "outputs": [
    {
     "name": "stdout",
     "output_type": "stream",
     "text": [
      "✅ Project folders are ready!\n"
     ]
    }
   ],
   "source": [
    "import os\n",
    "\n",
    "# Create folders if not exist\n",
    "os.makedirs(\"data\", exist_ok=True)\n",
    "os.makedirs(\"plots\", exist_ok=True)\n",
    "os.makedirs(\"models\", exist_ok=True)\n",
    "\n",
    "print(\"✅ Project folders are ready!\")\n"
   ]
  },
  {
   "cell_type": "markdown",
   "id": "0d629394-6de2-474b-bfd2-a54421b09afd",
   "metadata": {},
   "source": [
    "# 🔹 Step 2: Import Required Libraries\n"
   ]
  },
  {
   "cell_type": "code",
   "execution_count": 2,
   "id": "08e78924-ccad-46f2-9411-9e404bb1b96f",
   "metadata": {},
   "outputs": [
    {
     "name": "stdout",
     "output_type": "stream",
     "text": [
      "✅ Libraries imported successfully!\n"
     ]
    }
   ],
   "source": [
    "# Data Handling\n",
    "import pandas as pd\n",
    "import numpy as np\n",
    "\n",
    "# Visualization\n",
    "import matplotlib.pyplot as plt\n",
    "import seaborn as sns\n",
    "\n",
    "# Machine Learning\n",
    "from sklearn.model_selection import train_test_split\n",
    "from sklearn.preprocessing import StandardScaler\n",
    "from sklearn.linear_model import LogisticRegression\n",
    "from sklearn.metrics import accuracy_score, confusion_matrix, classification_report\n",
    "\n",
    "# Saving Model\n",
    "import joblib\n",
    "import json\n",
    "\n",
    "print(\"✅ Libraries imported successfully!\")\n"
   ]
  },
  {
   "cell_type": "markdown",
   "id": "dbc5aab1-03f3-4da0-8e58-4cd08cdacda3",
   "metadata": {},
   "source": [
    "# 🔹 Step 3: Load and Explore the Dataset\n",
    "\n",
    "We will now load `spambase.data.txt` into a Pandas DataFrame.\n",
    "\n",
    "- The dataset has **57 continuous features**  \n",
    "- The **last column (target)** indicates Spam (1) or Ham (0)  \n"
   ]
  },
  {
   "cell_type": "code",
   "execution_count": 4,
   "id": "7551ff42-0eb6-4744-839c-53acff729022",
   "metadata": {},
   "outputs": [
    {
     "name": "stdout",
     "output_type": "stream",
     "text": [
      "Dataset Shape: (4601, 58)\n",
      "\n",
      "First 5 Rows:\n",
      "    feature_0  feature_1  feature_2  feature_3  feature_4  feature_5  \\\n",
      "0       0.00       0.64       0.64        0.0       0.32       0.00   \n",
      "1       0.21       0.28       0.50        0.0       0.14       0.28   \n",
      "2       0.06       0.00       0.71        0.0       1.23       0.19   \n",
      "3       0.00       0.00       0.00        0.0       0.63       0.00   \n",
      "4       0.00       0.00       0.00        0.0       0.63       0.00   \n",
      "\n",
      "   feature_6  feature_7  feature_8  feature_9  ...  feature_48  feature_49  \\\n",
      "0       0.00       0.00       0.00       0.00  ...        0.00       0.000   \n",
      "1       0.21       0.07       0.00       0.94  ...        0.00       0.132   \n",
      "2       0.19       0.12       0.64       0.25  ...        0.01       0.143   \n",
      "3       0.31       0.63       0.31       0.63  ...        0.00       0.137   \n",
      "4       0.31       0.63       0.31       0.63  ...        0.00       0.135   \n",
      "\n",
      "   feature_50  feature_51  feature_52  feature_53  feature_54  feature_55  \\\n",
      "0         0.0       0.778       0.000       0.000       3.756          61   \n",
      "1         0.0       0.372       0.180       0.048       5.114         101   \n",
      "2         0.0       0.276       0.184       0.010       9.821         485   \n",
      "3         0.0       0.137       0.000       0.000       3.537          40   \n",
      "4         0.0       0.135       0.000       0.000       3.537          40   \n",
      "\n",
      "   feature_56  target  \n",
      "0         278       1  \n",
      "1        1028       1  \n",
      "2        2259       1  \n",
      "3         191       1  \n",
      "4         191       1  \n",
      "\n",
      "[5 rows x 58 columns]\n",
      "\n",
      "Data Types & Null Values:\n",
      "\n",
      "<class 'pandas.core.frame.DataFrame'>\n",
      "RangeIndex: 4601 entries, 0 to 4600\n",
      "Data columns (total 58 columns):\n",
      " #   Column      Non-Null Count  Dtype  \n",
      "---  ------      --------------  -----  \n",
      " 0   feature_0   4601 non-null   float64\n",
      " 1   feature_1   4601 non-null   float64\n",
      " 2   feature_2   4601 non-null   float64\n",
      " 3   feature_3   4601 non-null   float64\n",
      " 4   feature_4   4601 non-null   float64\n",
      " 5   feature_5   4601 non-null   float64\n",
      " 6   feature_6   4601 non-null   float64\n",
      " 7   feature_7   4601 non-null   float64\n",
      " 8   feature_8   4601 non-null   float64\n",
      " 9   feature_9   4601 non-null   float64\n",
      " 10  feature_10  4601 non-null   float64\n",
      " 11  feature_11  4601 non-null   float64\n",
      " 12  feature_12  4601 non-null   float64\n",
      " 13  feature_13  4601 non-null   float64\n",
      " 14  feature_14  4601 non-null   float64\n",
      " 15  feature_15  4601 non-null   float64\n",
      " 16  feature_16  4601 non-null   float64\n",
      " 17  feature_17  4601 non-null   float64\n",
      " 18  feature_18  4601 non-null   float64\n",
      " 19  feature_19  4601 non-null   float64\n",
      " 20  feature_20  4601 non-null   float64\n",
      " 21  feature_21  4601 non-null   float64\n",
      " 22  feature_22  4601 non-null   float64\n",
      " 23  feature_23  4601 non-null   float64\n",
      " 24  feature_24  4601 non-null   float64\n",
      " 25  feature_25  4601 non-null   float64\n",
      " 26  feature_26  4601 non-null   float64\n",
      " 27  feature_27  4601 non-null   float64\n",
      " 28  feature_28  4601 non-null   float64\n",
      " 29  feature_29  4601 non-null   float64\n",
      " 30  feature_30  4601 non-null   float64\n",
      " 31  feature_31  4601 non-null   float64\n",
      " 32  feature_32  4601 non-null   float64\n",
      " 33  feature_33  4601 non-null   float64\n",
      " 34  feature_34  4601 non-null   float64\n",
      " 35  feature_35  4601 non-null   float64\n",
      " 36  feature_36  4601 non-null   float64\n",
      " 37  feature_37  4601 non-null   float64\n",
      " 38  feature_38  4601 non-null   float64\n",
      " 39  feature_39  4601 non-null   float64\n",
      " 40  feature_40  4601 non-null   float64\n",
      " 41  feature_41  4601 non-null   float64\n",
      " 42  feature_42  4601 non-null   float64\n",
      " 43  feature_43  4601 non-null   float64\n",
      " 44  feature_44  4601 non-null   float64\n",
      " 45  feature_45  4601 non-null   float64\n",
      " 46  feature_46  4601 non-null   float64\n",
      " 47  feature_47  4601 non-null   float64\n",
      " 48  feature_48  4601 non-null   float64\n",
      " 49  feature_49  4601 non-null   float64\n",
      " 50  feature_50  4601 non-null   float64\n",
      " 51  feature_51  4601 non-null   float64\n",
      " 52  feature_52  4601 non-null   float64\n",
      " 53  feature_53  4601 non-null   float64\n",
      " 54  feature_54  4601 non-null   float64\n",
      " 55  feature_55  4601 non-null   int64  \n",
      " 56  feature_56  4601 non-null   int64  \n",
      " 57  target      4601 non-null   int64  \n",
      "dtypes: float64(55), int64(3)\n",
      "memory usage: 2.0 MB\n",
      "None\n"
     ]
    }
   ],
   "source": [
    "# Define column names\n",
    "columns = [f\"feature_{i}\" for i in range(57)] + [\"target\"]\n",
    "\n",
    "# Load dataset\n",
    "df = pd.read_csv(\"data/spambase.data\", header=None, names=columns)\n",
    "\n",
    "# Show basic info\n",
    "print(\"Dataset Shape:\", df.shape)\n",
    "print(\"\\nFirst 5 Rows:\\n\", df.head())\n",
    "print(\"\\nData Types & Null Values:\\n\")\n",
    "print(df.info())\n"
   ]
  },
  {
   "cell_type": "markdown",
   "id": "b4fbddf9-fbfe-4d3d-9a18-51475ca40937",
   "metadata": {},
   "source": [
    "# 📌 Step 3.1: Visualize Class Distribution\n",
    "\n",
    "Before modeling, it’s useful to see how many emails are Spam vs. Not Spam.\n"
   ]
  },
  {
   "cell_type": "code",
   "execution_count": 11,
   "id": "6ec630a9-5951-466d-bfae-8adf6811d5f9",
   "metadata": {},
   "outputs": [
    {
     "name": "stderr",
     "output_type": "stream",
     "text": [
      "C:\\Users\\Syed Asgher\\AppData\\Local\\Temp\\ipykernel_18596\\153220126.py:6: FutureWarning: \n",
      "\n",
      "Passing `palette` without assigning `hue` is deprecated and will be removed in v0.14.0. Assign the `x` variable to `hue` and set `legend=False` for the same effect.\n",
      "\n",
      "  sns.barplot(x=class_counts.index, y=class_counts.values, palette=\"viridis\")\n"
     ]
    },
    {
     "data": {
      "image/png": "[encoded data removed]",
      "text/plain": [
       "<Figure size 600x400 with 1 Axes>"
      ]
     },
     "metadata": {},
     "output_type": "display_data"
    }
   ],
   "source": [
    "# Count of each class\n",
    "class_counts = df[\"target\"].value_counts()\n",
    "\n",
    "# Plot\n",
    "plt.figure(figsize=(6,4))\n",
    "sns.barplot(x=class_counts.index, y=class_counts.values, palette=\"viridis\")\n",
    "plt.xticks([0,1], [\"Not Spam\", \"Spam\"])\n",
    "plt.ylabel(\"Number of Emails\")\n",
    "plt.title(\"Class Distribution: Spam vs Not Spam\")\n",
    "plt.savefig(\"plots/class_distribution.png\")  # Save to plots folder\n",
    "plt.show()\n"
   ]
  },
  {
   "cell_type": "markdown",
   "id": "98959b56-d9ca-4f1a-a710-6b8543dde33c",
   "metadata": {},
   "source": [
    "## Step 4: Data Preprocessing\n",
    "\n",
    "- The dataset contains only numeric values (word frequencies, character frequencies, etc.).\n",
    "- We check for missing values.\n",
    "- Then, we scale features using `StandardScaler` so all features have mean = 0 and variance = 1.\n"
   ]
  },
  {
   "cell_type": "code",
   "execution_count": 6,
   "id": "609e4a17-b7a3-453e-8770-319ae5ca931f",
   "metadata": {},
   "outputs": [
    {
     "name": "stdout",
     "output_type": "stream",
     "text": [
      "Total Missing Values: 0\n",
      "Shape of X_scaled: (4601, 57)\n"
     ]
    }
   ],
   "source": [
    "# 🔎 Check for missing values\n",
    "print(\"Total Missing Values:\", df.isnull().sum().sum())\n",
    "\n",
    "# ✂️ Split features and target\n",
    "X = df.drop(\"target\", axis=1)\n",
    "y = df[\"target\"]\n",
    "\n",
    "# ⚖️ Standardize features\n",
    "scaler = StandardScaler()\n",
    "X_scaled = scaler.fit_transform(X)\n",
    "\n",
    "print(\"Shape of X_scaled:\", X_scaled.shape)\n"
   ]
  },
  {
   "cell_type": "markdown",
   "id": "f2103bbe-3201-4da2-a9aa-57691876e4a4",
   "metadata": {},
   "source": [
    "# 📌 Step 5: Train-Test Split & Logistic Regression Training  \n",
    "\n",
    "Now that we have preprocessed the data, the next step is to split the dataset into **training** and **testing** sets.  \n",
    "\n",
    "- **Training Set (80%)** → Used to train the machine learning model.  \n",
    "- **Testing Set (20%)** → Used to evaluate how well the trained model performs on unseen data.  \n",
    "\n",
    "We will use **Logistic Regression**, a popular classification algorithm, to train our spam detection model.  \n",
    "This model works well for binary classification tasks (Spam vs. Not Spam).  \n"
   ]
  },
  {
   "cell_type": "code",
   "execution_count": 7,
   "id": "37bed58d-edf1-44b4-b235-76643283237b",
   "metadata": {},
   "outputs": [
    {
     "name": "stdout",
     "output_type": "stream",
     "text": [
      "Training Set Shape: (3680, 57)\n",
      "Testing Set Shape: (921, 57)\n",
      "✅ Model Training Completed!\n"
     ]
    }
   ],
   "source": [
    "# 📂 Step 5: Train-Test Split & Model Training\n",
    "\n",
    "# Split dataset into training and testing sets (80% train, 20% test)\n",
    "X_train, X_test, y_train, y_test = train_test_split(\n",
    "    X_scaled, y, test_size=0.2, random_state=42, stratify=y\n",
    ")\n",
    "\n",
    "print(\"Training Set Shape:\", X_train.shape)\n",
    "print(\"Testing Set Shape:\", X_test.shape)\n",
    "\n",
    "# 🤖 Logistic Regression Model\n",
    "model = LogisticRegression(max_iter=1000, random_state=42)\n",
    "model.fit(X_train, y_train)\n",
    "\n",
    "# 🔮 Predictions on test set\n",
    "y_pred = model.predict(X_test)\n",
    "\n",
    "print(\"✅ Model Training Completed!\")\n"
   ]
  },
  {
   "cell_type": "markdown",
   "id": "3cf5d5da-b36f-4a0b-a4d7-d344cd9f685c",
   "metadata": {},
   "source": [
    "# 📌 Step 6: Model Evaluation  \n",
    "\n",
    "After training the Logistic Regression model, we need to evaluate how well it performs.  \n",
    "\n",
    "We will use the following metrics:  \n",
    "- **Accuracy Score** → Percentage of correctly predicted emails (Spam/Not Spam).  \n",
    "- **Confusion Matrix** → Table showing correct vs. incorrect classifications.  \n",
    "- **Classification Report** → Provides Precision, Recall, and F1-Score for deeper insights.  \n",
    "\n",
    "These metrics will help us understand if the model is reliable for detecting spam emails.  \n"
   ]
  },
  {
   "cell_type": "code",
   "execution_count": 8,
   "id": "e6c5e3bc-5297-4222-9785-ae0df003c631",
   "metadata": {},
   "outputs": [
    {
     "name": "stdout",
     "output_type": "stream",
     "text": [
      "✅ Accuracy Score: 0.9294245385450597\n",
      "\n",
      "📌 Confusion Matrix:\n",
      " [[530  28]\n",
      " [ 37 326]]\n",
      "\n",
      "📌 Classification Report:\n",
      "               precision    recall  f1-score   support\n",
      "\n",
      "           0       0.93      0.95      0.94       558\n",
      "           1       0.92      0.90      0.91       363\n",
      "\n",
      "    accuracy                           0.93       921\n",
      "   macro avg       0.93      0.92      0.93       921\n",
      "weighted avg       0.93      0.93      0.93       921\n",
      "\n"
     ]
    },
    {
     "data": {
      "image/png": "[encoded data removed]",
      "text/plain": [
       "<Figure size 600x400 with 2 Axes>"
      ]
     },
     "metadata": {},
     "output_type": "display_data"
    }
   ],
   "source": [
    "# 📌 Step 6: Model Evaluation\n",
    "\n",
    "# Make predictions\n",
    "y_pred = model.predict(X_test)\n",
    "\n",
    "# Accuracy\n",
    "accuracy = accuracy_score(y_test, y_pred)\n",
    "print(\"✅ Accuracy Score:\", accuracy)\n",
    "\n",
    "# Confusion Matrix\n",
    "cm = confusion_matrix(y_test, y_pred)\n",
    "print(\"\\n📌 Confusion Matrix:\\n\", cm)\n",
    "\n",
    "# Classification Report\n",
    "print(\"\\n📌 Classification Report:\\n\", classification_report(y_test, y_pred))\n",
    "\n",
    "# 🔹 Plot Confusion Matrix\n",
    "plt.figure(figsize=(6,4))\n",
    "sns.heatmap(cm, annot=True, fmt=\"d\", cmap=\"Blues\", xticklabels=[\"Not Spam\", \"Spam\"], yticklabels=[\"Not Spam\", \"Spam\"])\n",
    "plt.title(\"Confusion Matrix\")\n",
    "plt.xlabel(\"Predicted\")\n",
    "plt.ylabel(\"Actual\")\n",
    "plt.savefig(\"plots/confusion_matrix.png\")  # Save plot\n",
    "plt.show()\n"
   ]
  },
  {
   "cell_type": "markdown",
   "id": "8edea2e1-daf7-4ca8-9d41-85846bfe574f",
   "metadata": {},
   "source": [
    "# 📌 Step 7: Save Model & Scaler  \n",
    "\n",
    "To use our spam detection model in the future (without retraining), we need to save:  \n",
    "\n",
    "- ✅ **Trained Model** (Logistic Regression)  \n",
    "- ✅ **Scaler** (used for feature scaling)  \n",
    "\n",
    "This allows us to quickly load the model and make predictions on new incoming emails.\n"
   ]
  },
  {
   "cell_type": "code",
   "execution_count": 9,
   "id": "cef22496-7376-413d-9885-59110f57dc12",
   "metadata": {},
   "outputs": [
    {
     "name": "stdout",
     "output_type": "stream",
     "text": [
      "✅ Model, Scaler & Metadata saved successfully!\n"
     ]
    }
   ],
   "source": [
    "# 📌 Step 7: Save Model & Scaler\n",
    "\n",
    "# Save the trained model\n",
    "joblib.dump(model, \"models/spam_classifier.pkl\")\n",
    "\n",
    "# Save the scaler\n",
    "joblib.dump(scaler, \"models/scaler.pkl\")\n",
    "\n",
    "# Save metadata (like accuracy) for reference\n",
    "metadata = {\n",
    "    \"model\": \"Logistic Regression\",\n",
    "    \"accuracy\": accuracy\n",
    "}\n",
    "with open(\"models/metadata.json\", \"w\") as f:\n",
    "    json.dump(metadata, f)\n",
    "\n",
    "print(\"✅ Model, Scaler & Metadata saved successfully!\")\n"
   ]
  },
  {
   "cell_type": "markdown",
   "id": "651a8488-07c7-4227-9510-57e5e2ca9cf8",
   "metadata": {},
   "source": [
    "# 📌 Step 8: Save & Load Model for Future Predictions  \n",
    "\n",
    "To make our project practical and stand out, we save the trained Logistic Regression model and the scaler:  \n",
    "\n",
    "- **Why save the model?** So we can use it later on new emails without retraining.  \n",
    "- **Why save the scaler?** Feature scaling must be consistent with training data.  \n",
    "\n",
    "After saving, we can **load the model and scaler** and make predictions on unseen emails.  \n",
    "This step demonstrates that the project is not only theoretical but also deployable.\n"
   ]
  },
  {
   "cell_type": "code",
   "execution_count": 10,
   "id": "b1e2f76b-3e64-4a37-9bb9-e401ea0fcbba",
   "metadata": {},
   "outputs": [
    {
     "name": "stdout",
     "output_type": "stream",
     "text": [
      "✅ Model saved at models/spam_classifier.pkl\n",
      "✅ Scaler saved at models/scaler.pkl\n",
      "Sample Prediction: Spam\n"
     ]
    },
    {
     "name": "stderr",
     "output_type": "stream",
     "text": [
      "C:\\Users\\Syed Asgher\\AppData\\Local\\Programs\\Python\\Python311\\Lib\\site-packages\\sklearn\\base.py:493: UserWarning: X does not have valid feature names, but StandardScaler was fitted with feature names\n",
      "  warnings.warn(\n"
     ]
    }
   ],
   "source": [
    "# ✅ Save the trained model\n",
    "model_path = \"models/spam_classifier.pkl\"\n",
    "joblib.dump(model, model_path)\n",
    "print(f\"✅ Model saved at {model_path}\")\n",
    "\n",
    "# ✅ Save scaler too (important for preprocessing)\n",
    "scaler_path = \"models/scaler.pkl\"\n",
    "joblib.dump(scaler, scaler_path)\n",
    "print(f\"✅ Scaler saved at {scaler_path}\")\n",
    "\n",
    "# ✅ Load the saved model & scaler\n",
    "loaded_model = joblib.load(model_path)\n",
    "loaded_scaler = joblib.load(scaler_path)\n",
    "\n",
    "# Example: Predict on one test sample\n",
    "sample = X_test[0].reshape(1, -1)        # take first test email features\n",
    "sample_scaled = loaded_scaler.transform(sample)\n",
    "prediction = loaded_model.predict(sample_scaled)\n",
    "\n",
    "print(\"Sample Prediction:\", \"Spam\" if prediction[0] == 1 else \"Not Spam\")\n"
   ]
  },
  {
   "cell_type": "markdown",
   "id": "53556d2d-7a00-4d79-96c9-5bb9c9bda6cc",
   "metadata": {},
   "source": [
    "# 📌 Step 9: Final Summary & Conclusion  \n",
    "\n",
    "### Summary:\n",
    "- We successfully loaded and explored the **Spambase dataset**.  \n",
    "- Preprocessed the data using **StandardScaler** for consistent feature scaling.  \n",
    "- Trained a **Logistic Regression** model to classify emails as **Spam** or **Not Spam**.  \n",
    "- Evaluated the model using **Accuracy, Confusion Matrix, and Classification Report**.  \n",
    "- Saved **plots** in `plots/` folder for visualization.  \n",
    "- Saved the **trained model and scaler** in `models/` folder for future predictions.  \n",
    "- Demonstrated **loading the model** and predicting on new data, showing real-world usability.  \n",
    "\n",
    "### Key Takeaways:\n",
    "- Logistic Regression performs well for binary classification tasks like spam detection.  \n",
    "- Proper preprocessing and feature scaling significantly improve model performance.  \n",
    "- Saving and reusing models makes the project practical and deployable.  \n",
    "\n",
    "This project demonstrates end-to-end **Spam Mail Detection**, combining **data analysis, machine learning, evaluation, and deployable implementation**, making it suitable for both academic submission and practical applications.\n"
   ]
  },
  {
   "cell_type": "code",
   "execution_count": null,
   "id": "fa94485e-9b8d-4226-94aa-e47038b90a8d",
   "metadata": {},
   "outputs": [],
   "source": []
  }
 ],
 "metadata": {
  "kernelspec": {
   "display_name": "Python 3 (ipykernel)",
   "language": "python",
   "name": "python3"
  },
  "language_info": {
   "codemirror_mode": {
    "name": "ipython",
    "version": 3
   },
   "file_extension": ".py",
   "mimetype": "text/x-python",
   "name": "python",
   "nbconvert_exporter": "python",
   "pygments_lexer": "ipython3",
   "version": "3.11.3"
  }
 },
 "nbformat": 4,
 "nbformat_minor": 5
}
